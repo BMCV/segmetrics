{
 "cells": [
  {
   "cell_type": "code",
   "execution_count": 1,
   "metadata": {
    "ExecuteTime": {
     "end_time": "2017-08-28T12:05:22.020026Z",
     "start_time": "2017-08-28T12:05:21.585331Z"
    },
    "collapsed": false
   },
   "outputs": [
    {
     "name": "stdout",
     "output_type": "stream",
     "text": [
      "Using matplotlib backend: TkAgg\n",
      "Populating the interactive namespace from numpy and matplotlib\n"
     ]
    }
   ],
   "source": [
    "%pylab\n",
    "%matplotlib inline\n",
    "\n",
    "import cv2, re, isbi_seg_oak\n",
    "from segmetrics.study    import *\n",
    "from segmetrics.regional import *\n",
    "from segmetrics.boundary import *\n",
    "from skimage import measure, io"
   ]
  },
  {
   "cell_type": "code",
   "execution_count": 2,
   "metadata": {
    "ExecuteTime": {
     "end_time": "2017-08-28T12:05:22.040646Z",
     "start_time": "2017-08-28T12:05:22.022241Z"
    },
    "collapsed": false
   },
   "outputs": [],
   "source": [
    "result      = cv2.imread('testdata/01_result.png'     , 0)\n",
    "groundtruth = cv2.imread('testdata/01_groundtruth.png', 0)"
   ]
  },
  {
   "cell_type": "markdown",
   "metadata": {},
   "source": [
    "## Performance of ISBI SEG Score"
   ]
  },
  {
   "cell_type": "code",
   "execution_count": 3,
   "metadata": {
    "ExecuteTime": {
     "end_time": "2017-08-28T12:05:27.634681Z",
     "start_time": "2017-08-28T12:05:22.042270Z"
    },
    "collapsed": false
   },
   "outputs": [
    {
     "name": "stdout",
     "output_type": "stream",
     "text": [
      "1 loop, best of 3: 1.33 s per loop\n"
     ]
    }
   ],
   "source": [
    "%%timeit\n",
    "study = Study()\n",
    "study.add_measure(ISBIScore())\n",
    "study.set_expected(groundtruth)\n",
    "study.process(result)"
   ]
  },
  {
   "cell_type": "markdown",
   "metadata": {},
   "source": [
    "## Gauging of ISBI SEG Score"
   ]
  },
  {
   "cell_type": "code",
   "execution_count": 4,
   "metadata": {
    "ExecuteTime": {
     "end_time": "2017-08-28T12:05:40.716578Z",
     "start_time": "2017-08-28T12:05:27.636247Z"
    },
    "collapsed": false,
    "scrolled": true
   },
   "outputs": [
    {
     "name": "stdout",
     "output_type": "stream",
     "text": [
      " hausdorff: 16.480 ±27.855\n",
      "isbi score:  0.752 ± 0.237\n",
      "      dice:  0.916 ± 0.000\n"
     ]
    }
   ],
   "source": [
    "n, study = 5, Study()\n",
    "\n",
    "study.add_measure(Dice()     , 'dice')\n",
    "study.add_measure(Hausdorff(), 'hausdorff')\n",
    "study.add_measure(ISBIScore(), 'isbi score')\n",
    "\n",
    "study.set_expected(groundtruth)\n",
    "for i in xrange(n): study.process(result)\n",
    "\n",
    "for measure_name in study.results:\n",
    "    print('%10s: %6.3f ±%6.3f' % (measure_name, mean(study.results[measure_name]), std(study.results[measure_name])))"
   ]
  },
  {
   "cell_type": "code",
   "execution_count": 5,
   "metadata": {
    "ExecuteTime": {
     "end_time": "2017-08-28T12:05:42.752977Z",
     "start_time": "2017-08-28T12:05:40.718393Z"
    },
    "collapsed": false,
    "scrolled": false
   },
   "outputs": [
    {
     "name": "stdout",
     "output_type": "stream",
     "text": [
      "Error: -1.99170556492e-07\n"
     ]
    }
   ],
   "source": [
    "def get_official_isbi_seg_score(groundtruth, result, n):\n",
    "    oak_result = isbi_seg_oak.oak(groundtruth, result, n)\n",
    "    match = re.compile(r'.*?([\\.0-9]+)').match(oak_result)\n",
    "    if match is not None:\n",
    "        official_result = float(match.group(1))\n",
    "        return official_result\n",
    "    else:\n",
    "        raise ValueError('Unexpected result:', oak_result)\n",
    "\n",
    "print('Error:', get_official_isbi_seg_score(groundtruth, result, n) - mean(study.results['isbi score']))"
   ]
  },
  {
   "cell_type": "markdown",
   "metadata": {},
   "source": [
    "Passing `unique=False` to `Study.set_expected` should not affect the result in this case:"
   ]
  },
  {
   "cell_type": "code",
   "execution_count": 6,
   "metadata": {
    "ExecuteTime": {
     "end_time": "2017-08-28T12:05:56.098293Z",
     "start_time": "2017-08-28T12:05:42.755014Z"
    },
    "collapsed": false
   },
   "outputs": [],
   "source": [
    "study2 = Study()\n",
    "for measure in study.measures.items():\n",
    "    study2.add_measure(*measure[::-1])\n",
    "study2.set_expected(groundtruth, unique=False)\n",
    "for i in xrange(n): study2.process(result)\n",
    "for measure_name in study.measures.keys():\n",
    "    assert allclose(study.results[measure_name], study2.results[measure_name])"
   ]
  },
  {
   "cell_type": "markdown",
   "metadata": {},
   "source": [
    "## Dealing with Non-unique Labels and ISBI SEG Score"
   ]
  },
  {
   "cell_type": "code",
   "execution_count": 7,
   "metadata": {
    "ExecuteTime": {
     "end_time": "2017-08-28T12:06:22.889288Z",
     "start_time": "2017-08-28T12:06:22.809500Z"
    },
    "collapsed": false
   },
   "outputs": [
    {
     "name": "stdout",
     "output_type": "stream",
     "text": [
      "0 to 426\n",
      "0 to 348\n"
     ]
    }
   ],
   "source": [
    "result      = io.imread('testdata/02_result.tif'     , plugin='tifffile')\n",
    "groundtruth = io.imread('testdata/02_groundtruth.tif', plugin='tifffile')\n",
    "print(result.min()     , 'to', result.max()     )\n",
    "print(groundtruth.min(), 'to', groundtruth.max())"
   ]
  },
  {
   "cell_type": "code",
   "execution_count": 8,
   "metadata": {
    "ExecuteTime": {
     "end_time": "2017-08-28T12:06:23.494856Z",
     "start_time": "2017-08-28T12:06:23.198257Z"
    },
    "collapsed": false
   },
   "outputs": [
    {
     "data": {
      "image/png": "[encoded data removed]",
      "text/plain": [
       "<matplotlib.figure.Figure at 0x7f27cbbca510>"
      ]
     },
     "metadata": {},
     "output_type": "display_data"
    }
   ],
   "source": [
    "imshow(groundtruth == 1, 'gray')\n",
    "tight_layout()"
   ]
  },
  {
   "cell_type": "code",
   "execution_count": 12,
   "metadata": {
    "ExecuteTime": {
     "end_time": "2017-08-28T12:08:46.686247Z",
     "start_time": "2017-08-28T12:08:44.556701Z"
    },
    "collapsed": false
   },
   "outputs": [
    {
     "name": "stdout",
     "output_type": "stream",
     "text": [
      "0.805115\n"
     ]
    }
   ],
   "source": [
    "official_result = get_official_isbi_seg_score(groundtruth, result, n=1)\n",
    "print(official_result)"
   ]
  },
  {
   "cell_type": "markdown",
   "metadata": {},
   "source": [
    "Test *without* relabling the ground truth:"
   ]
  },
  {
   "cell_type": "code",
   "execution_count": 13,
   "metadata": {
    "ExecuteTime": {
     "end_time": "2017-08-28T12:10:14.402142Z",
     "start_time": "2017-08-28T12:09:12.957444Z"
    },
    "collapsed": false,
    "scrolled": true
   },
   "outputs": [
    {
     "name": "stdout",
     "output_type": "stream",
     "text": [
      "0.805115161858 1.61858297432e-07\n"
     ]
    }
   ],
   "source": [
    "study = Study()\n",
    "study.add_measure(ISBIScore())\n",
    "\n",
    "study.set_expected(groundtruth)\n",
    "study.process(result)\n",
    "\n",
    "our_result = mean(study.results[study.measures.keys()[0]])\n",
    "print(our_result, our_result - official_result)"
   ]
  },
  {
   "cell_type": "markdown",
   "metadata": {},
   "source": [
    "Test *with* relabling the ground truth:"
   ]
  },
  {
   "cell_type": "code",
   "execution_count": 14,
   "metadata": {
    "ExecuteTime": {
     "end_time": "2017-08-28T12:12:08.315938Z",
     "start_time": "2017-08-28T12:10:50.487080Z"
    },
    "collapsed": false,
    "scrolled": true
   },
   "outputs": [
    {
     "name": "stdout",
     "output_type": "stream",
     "text": [
      "0.814550157719 0.00943515771894\n"
     ]
    }
   ],
   "source": [
    "study = Study()\n",
    "study.add_measure(ISBIScore())\n",
    "\n",
    "study.set_expected(groundtruth, unique=False)\n",
    "study.process(result)\n",
    "\n",
    "our_result = mean(study.results[study.measures.keys()[0]])\n",
    "print(our_result, our_result - official_result)"
   ]
  },
  {
   "cell_type": "markdown",
   "metadata": {},
   "source": [
    "So in order to immitate the official evaluation software, we must not relabel the ground truth."
   ]
  }
 ],
 "metadata": {
  "kernelspec": {
   "display_name": "Python 2",
   "language": "python",
   "name": "python2"
  },
  "language_info": {
   "codemirror_mode": {
    "name": "ipython",
    "version": 2
   },
   "file_extension": ".py",
   "mimetype": "text/x-python",
   "name": "python",
   "nbconvert_exporter": "python",
   "pygments_lexer": "ipython2",
   "version": "2.7.12"
  },
  "varInspector": {
   "cols": {
    "lenName": 16,
    "lenType": 16,
    "lenVar": 40
   },
   "kernels_config": {
    "python": {
     "delete_cmd_postfix": "",
     "delete_cmd_prefix": "del ",
     "library": "var_list.py",
     "varRefreshCmd": "print(var_dic_list())"
    },
    "r": {
     "delete_cmd_postfix": ") ",
     "delete_cmd_prefix": "rm(",
     "library": "var_list.r",
     "varRefreshCmd": "cat(var_dic_list()) "
    }
   },
   "types_to_exclude": [
    "module",
    "function",
    "builtin_function_or_method",
    "instance",
    "_Feature"
   ],
   "window_display": false
  }
 },
 "nbformat": 4,
 "nbformat_minor": 0
}
