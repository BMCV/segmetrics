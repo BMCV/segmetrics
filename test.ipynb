{
 "cells": [
  {
   "cell_type": "code",
   "execution_count": 1,
   "metadata": {
    "collapsed": false
   },
   "outputs": [
    {
     "name": "stdout",
     "output_type": "stream",
     "text": [
      "Using matplotlib backend: TkAgg\n",
      "Populating the interactive namespace from numpy and matplotlib\n"
     ]
    }
   ],
   "source": [
    "%pylab\n",
    "%matplotlib inline\n",
    "\n",
    "import cv2\n",
    "import subprocess\n",
    "from segmetrics.study    import *\n",
    "from segmetrics.regional import *\n",
    "from segmetrics.boundary import *\n",
    "from skimage import measure\n",
    "from tempfile import NamedTemporaryFile"
   ]
  },
  {
   "cell_type": "code",
   "execution_count": 24,
   "metadata": {
    "collapsed": true
   },
   "outputs": [],
   "source": [
    "def load_xcf_layer(xcf_path, layername):\n",
    "    with NamedTemporaryFile() as png_file:\n",
    "        subprocess.call(['xcf2png', xcf_path, layername, '-o', png_file.name])\n",
    "        img = cv2.imread(png_file.name, 0)\n",
    "        if img is None: warnings.warn('couldn\\'t load layer')\n",
    "        return img\n",
    "\n",
    "def load_regions(xcf_path):\n",
    "    foreground = load_xcf_layer(xcf_path, 'foreground')\n",
    "    regions = measure.label(foreground, neighbors=4, background=0)\n",
    "    assert all((regions == -1) == (foreground == 0))\n",
    "    return regions + 1"
   ]
  },
  {
   "cell_type": "code",
   "execution_count": 25,
   "metadata": {
    "collapsed": false
   },
   "outputs": [],
   "source": [
    "result      = load_regions('testdata/result.xcf')\n",
    "groundtruth = load_regions('testdata/groundtruth.xcf')"
   ]
  },
  {
   "cell_type": "code",
   "execution_count": 20,
   "metadata": {
    "collapsed": false,
    "scrolled": true
   },
   "outputs": [
    {
     "data": {
      "text/plain": [
       "{'accuracy': 0.30415177419006345,\n",
       " 'dice': 0.91634550767453693,\n",
       " 'hausdorff': 16.480058084071327,\n",
       " 'precision': 0.9860045835104515,\n",
       " 'recall': 0.85587948646990175}"
      ]
     },
     "execution_count": 20,
     "metadata": {},
     "output_type": "execute_result"
    }
   ],
   "source": [
    "study = Study()\n",
    "study.add_measure(Dice()     , 'dice')\n",
    "study.add_measure(Hausdorff(), 'hausdorff')\n",
    "study.add_measure(Recall()   , 'recall')\n",
    "study.add_measure(Precision(), 'precision')\n",
    "study.add_measure(Accuracy() , 'accuracy')\n",
    "study.process(result, groundtruth)\n",
    "for measure_name in study.results: study.results[measure_name] = mean(study.results[measure_name])\n",
    "study.results"
   ]
  }
 ],
 "metadata": {
  "kernelspec": {
   "display_name": "Python 2",
   "language": "python",
   "name": "python2"
  },
  "language_info": {
   "codemirror_mode": {
    "name": "ipython",
    "version": 2
   },
   "file_extension": ".py",
   "mimetype": "text/x-python",
   "name": "python",
   "nbconvert_exporter": "python",
   "pygments_lexer": "ipython2",
   "version": "2.7.12"
  }
 },
 "nbformat": 4,
 "nbformat_minor": 0
}
