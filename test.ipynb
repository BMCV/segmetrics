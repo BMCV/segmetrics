{
 "cells": [
  {
   "cell_type": "code",
   "execution_count": 1,
   "metadata": {
    "ExecuteTime": {
     "end_time": "2018-02-24T11:26:01.319847Z",
     "start_time": "2018-02-24T11:26:00.882068Z"
    }
   },
   "outputs": [
    {
     "name": "stdout",
     "output_type": "stream",
     "text": [
      "Using matplotlib backend: Qt4Agg\n",
      "Populating the interactive namespace from numpy and matplotlib\n"
     ]
    }
   ],
   "source": [
    "%pylab\n",
    "%matplotlib inline\n",
    "\n",
    "import re, isbi_seg_oak\n",
    "from segmetrics.study     import *\n",
    "from segmetrics.regional  import *\n",
    "from segmetrics.boundary  import *\n",
    "from segmetrics.detection import *\n",
    "from skimage import measure, io"
   ]
  },
  {
   "cell_type": "code",
   "execution_count": 2,
   "metadata": {},
   "outputs": [
    {
     "name": "stdout",
     "output_type": "stream",
     "text": [
      "Last tested with version: 0.10.7 (on host: wolgograd)\n"
     ]
    }
   ],
   "source": [
    "import socket\n",
    "\n",
    "def get_version():\n",
    "    import segmetrics\n",
    "    return segmetrics.VERSION\n",
    "\n",
    "print('Last tested with version: %s (on host: %s)' % (get_version(), socket.gethostname()))"
   ]
  },
  {
   "cell_type": "code",
   "execution_count": 3,
   "metadata": {
    "ExecuteTime": {
     "end_time": "2018-02-24T11:26:01.328604Z",
     "start_time": "2018-02-24T11:26:01.321926Z"
    }
   },
   "outputs": [],
   "source": [
    "def load_img(filepath):\n",
    "    filepath = filepath.lower()\n",
    "    if filepath.endswith('.png'):\n",
    "        return io.imread(filepath, 'gray')\n",
    "    elif filepath.endswith('.tif'):\n",
    "        img = io.imread(filepath, plugin='tifffile')\n",
    "        if img.ndim == 3:\n",
    "            if img.shape[0] == 1: img = img[0]\n",
    "            else: raise ValueError('not implemented')\n",
    "        return img\n",
    "    else:\n",
    "        raise ValueError('unknown file extension')"
   ]
  },
  {
   "cell_type": "code",
   "execution_count": 4,
   "metadata": {
    "ExecuteTime": {
     "end_time": "2018-02-24T11:26:01.396046Z",
     "start_time": "2018-02-24T11:26:01.330206Z"
    }
   },
   "outputs": [],
   "source": [
    "result_list      = [load_img('testdata/%02d_result.%s'      % (i, ext)) for i, ext in enumerate(['png', 'tif'], 1)]\n",
    "groundtruth_list = [load_img('testdata/%02d_groundtruth.%s' % (i, ext)) for i, ext in enumerate(['png', 'tif'], 1)]"
   ]
  },
  {
   "cell_type": "markdown",
   "metadata": {},
   "source": [
    "## Testing `Hausdorff` and `NSD`"
   ]
  },
  {
   "cell_type": "code",
   "execution_count": 5,
   "metadata": {
    "ExecuteTime": {
     "end_time": "2018-02-24T11:26:25.426505Z",
     "start_time": "2018-02-24T11:26:02.370639Z"
    },
    "scrolled": false
   },
   "outputs": [
    {
     "name": "stdout",
     "output_type": "stream",
     "text": [
      "p/i HSD (a2e): 98.1446\n",
      "p/i HSD (e2a): 55.886\n",
      "p/i HSD (sym): 98.1446\n",
      "p/i NSD      : 21.89 %\n",
      "p/o HSD (a2e): 11.6017\n",
      "p/o HSD (e2a): 4.26337\n",
      "p/o HSD (sym): 28.0246\n",
      "p/o NSD      :  9.62 %\n"
     ]
    }
   ],
   "source": [
    "study = Study()\n",
    "\n",
    "study.add_measure(NSD()                , 'p/i NSD      ')\n",
    "study.add_measure(Hausdorff(mode='a2e'), 'p/i HSD (a2e)')\n",
    "study.add_measure(Hausdorff(mode='e2a'), 'p/i HSD (e2a)')\n",
    "study.add_measure(Hausdorff(mode='sym'), 'p/i HSD (sym)')\n",
    "\n",
    "study.add_measure(ObjectBasedDistance(NSD())                , 'p/o NSD      ')\n",
    "study.add_measure(ObjectBasedDistance(Hausdorff(mode='a2e')), 'p/o HSD (a2e)')\n",
    "study.add_measure(ObjectBasedDistance(Hausdorff(mode='e2a')), 'p/o HSD (e2a)')\n",
    "study.add_measure(ObjectBasedDistance(Hausdorff(mode='sym')), 'p/o HSD (sym)')\n",
    "\n",
    "for groundtruth, result in zip(groundtruth_list, result_list):\n",
    "    study.set_expected(groundtruth)\n",
    "    study.process(result)\n",
    "\n",
    "study.print_results()"
   ]
  },
  {
   "cell_type": "markdown",
   "metadata": {},
   "source": [
    "## Testing the `detection` sub-module"
   ]
  },
  {
   "cell_type": "code",
   "execution_count": 6,
   "metadata": {},
   "outputs": [],
   "source": [
    "study = Study()\n",
    "study.add_measure(FalseSplit(), 'Split')\n",
    "study.add_measure(FalseMerge(), 'Merge')\n",
    "study.add_measure(FalsePositive(), 'FP')\n",
    "study.add_measure(FalseNegative(), 'FN')"
   ]
  },
  {
   "cell_type": "markdown",
   "metadata": {},
   "source": [
    "### No errors expected"
   ]
  },
  {
   "cell_type": "code",
   "execution_count": 7,
   "metadata": {},
   "outputs": [
    {
     "name": "stdout",
     "output_type": "stream",
     "text": [
      "   FN: 0\n",
      "   FP: 0\n",
      "Merge: 0\n",
      "Split: 0\n"
     ]
    },
    {
     "data": {
      "image/png": "[encoded data removed]",
      "text/plain": [
       "<matplotlib.figure.Figure at 0x7ff67426efd0>"
      ]
     },
     "metadata": {},
     "output_type": "display_data"
    }
   ],
   "source": [
    "ref = zeros((500, 500), 'uint8')\n",
    "ref[100:200, 100:200] = 1\n",
    "ref[300:400, 100:200] = 2\n",
    "ref[100:200, 300:400] = 3\n",
    "ref[300:400, 300:400] = 4\n",
    "\n",
    "seg = zeros((500, 500), 'uint8')\n",
    "seg[120:220, 120:220] = 1\n",
    "seg[340:440, 100:200] = 2\n",
    "seg[100:200, 250:400] = 3\n",
    "seg[300:480, 300:400] = 4\n",
    "\n",
    "study.reset()\n",
    "study.set_expected(ref)\n",
    "study.process(seg)\n",
    "study.print_results()\n",
    "\n",
    "figure(figsize=(12,4))\n",
    "subplot(141)\n",
    "imshow(ref, 'gray')\n",
    "title('ref')\n",
    "subplot(142)\n",
    "imshow(seg, 'gray')\n",
    "title('seg')\n",
    "subplot(143)\n",
    "imshow(study.measures['FP'].result, 'gray')\n",
    "title('FP')\n",
    "subplot(144)\n",
    "imshow(study.measures['FN'].result, 'gray')\n",
    "title('FN')\n",
    "tight_layout()\n",
    "\n",
    "assert all([sum(study[key]) == 0 for key in study.measures])"
   ]
  },
  {
   "cell_type": "markdown",
   "metadata": {},
   "source": [
    "### False negative"
   ]
  },
  {
   "cell_type": "code",
   "execution_count": 8,
   "metadata": {},
   "outputs": [
    {
     "name": "stdout",
     "output_type": "stream",
     "text": [
      "   FN: 1\n",
      "   FP: 0\n",
      "Merge: 0\n",
      "Split: 0\n"
     ]
    },
    {
     "data": {
      "image/png": "[encoded data removed]",
      "text/plain": [
       "<matplotlib.figure.Figure at 0x7ff673aebb50>"
      ]
     },
     "metadata": {},
     "output_type": "display_data"
    }
   ],
   "source": [
    "ref = zeros((500, 500), 'uint8')\n",
    "ref[100:200, 100:200] = 1\n",
    "ref[300:400, 100:200] = 2\n",
    "ref[100:200, 300:400] = 3\n",
    "ref[300:400, 300:400] = 4\n",
    "\n",
    "seg = zeros((500, 500), 'uint8')\n",
    "seg[120:220, 120:220] = 1\n",
    "seg[340:440, 100:200] = 2\n",
    "seg[100:200, 250:400] = 3\n",
    "\n",
    "study.reset()\n",
    "study.set_expected(ref)\n",
    "study.process(seg)\n",
    "study.print_results()\n",
    "\n",
    "figure(figsize=(12,4))\n",
    "subplot(141)\n",
    "imshow(ref, 'gray')\n",
    "title('ref')\n",
    "subplot(142)\n",
    "imshow(seg, 'gray')\n",
    "title('seg')\n",
    "subplot(143)\n",
    "imshow(study.measures['FP'].result, 'gray')\n",
    "title('FP')\n",
    "subplot(144)\n",
    "imshow(study.measures['FN'].result, 'gray')\n",
    "title('FN')\n",
    "tight_layout()\n",
    "\n",
    "assert sum(study['FN']) == 1\n",
    "assert all([sum(study[key]) == 0 for key in study.measures if key is not 'FN'])"
   ]
  },
  {
   "cell_type": "code",
   "execution_count": 9,
   "metadata": {},
   "outputs": [
    {
     "name": "stdout",
     "output_type": "stream",
     "text": [
      "   FN: 1\n",
      "   FP: 0\n",
      "Merge: 0\n",
      "Split: 0\n"
     ]
    },
    {
     "data": {
      "image/png": "[encoded data removed]",
      "text/plain": [
       "<matplotlib.figure.Figure at 0x7ff67384cf90>"
      ]
     },
     "metadata": {},
     "output_type": "display_data"
    }
   ],
   "source": [
    "ref = zeros((500, 500), 'uint8')\n",
    "ref[100:200, 100:200] = 1\n",
    "ref[300:400, 100:200] = 2\n",
    "ref[100:200, 300:400] = 3\n",
    "ref[250:500, 250:500] = 4\n",
    "\n",
    "seg = zeros((500, 500), 'uint8')\n",
    "seg[120:220, 120:220] = 1\n",
    "seg[340:440, 100:200] = 2\n",
    "seg[100:200, 250:400] = 3\n",
    "seg[300:480, 300:400] = 4\n",
    "\n",
    "study.reset()\n",
    "study.set_expected(ref)\n",
    "study.process(seg)\n",
    "study.print_results()\n",
    "\n",
    "figure(figsize=(12,4))\n",
    "subplot(141)\n",
    "imshow(ref, 'gray')\n",
    "title('ref')\n",
    "subplot(142)\n",
    "imshow(seg, 'gray')\n",
    "title('seg')\n",
    "subplot(143)\n",
    "imshow(study.measures['FP'].result, 'gray')\n",
    "title('FP')\n",
    "subplot(144)\n",
    "imshow(study.measures['FN'].result, 'gray')\n",
    "title('FN')\n",
    "tight_layout()\n",
    "\n",
    "assert sum(study['FN']) == 1\n",
    "assert all([sum(study[key]) == 0 for key in study.measures if key is not 'FN'])"
   ]
  },
  {
   "cell_type": "markdown",
   "metadata": {},
   "source": [
    "### False positive"
   ]
  },
  {
   "cell_type": "code",
   "execution_count": 10,
   "metadata": {},
   "outputs": [
    {
     "name": "stdout",
     "output_type": "stream",
     "text": [
      "   FN: 0\n",
      "   FP: 1\n",
      "Merge: 0\n",
      "Split: 0\n"
     ]
    },
    {
     "data": {
      "image/png": "[encoded data removed]",
      "text/plain": [
       "<matplotlib.figure.Figure at 0x7ff67426e310>"
      ]
     },
     "metadata": {},
     "output_type": "display_data"
    }
   ],
   "source": [
    "ref = zeros((500, 500), 'uint8')\n",
    "ref[100:200, 100:200] = 1\n",
    "ref[300:400, 100:200] = 2\n",
    "ref[100:200, 300:400] = 3\n",
    "\n",
    "seg = zeros((500, 500), 'uint8')\n",
    "seg[120:220, 120:220] = 1\n",
    "seg[340:440, 100:200] = 2\n",
    "seg[100:200, 250:400] = 3\n",
    "seg[300:480, 300:400] = 4\n",
    "\n",
    "study.reset()\n",
    "study.set_expected(ref)\n",
    "study.process(seg)\n",
    "study.print_results()\n",
    "\n",
    "figure(figsize=(12,4))\n",
    "subplot(141)\n",
    "imshow(ref, 'gray')\n",
    "title('ref')\n",
    "subplot(142)\n",
    "imshow(seg, 'gray')\n",
    "title('seg')\n",
    "subplot(143)\n",
    "imshow(study.measures['FP'].result, 'gray')\n",
    "title('FP')\n",
    "subplot(144)\n",
    "imshow(study.measures['FN'].result, 'gray')\n",
    "title('FN')\n",
    "tight_layout()\n",
    "\n",
    "assert sum(study['FP']) == 1\n",
    "assert all([sum(study[key]) == 0 for key in study.measures if key is not 'FP'])"
   ]
  },
  {
   "cell_type": "code",
   "execution_count": 11,
   "metadata": {},
   "outputs": [
    {
     "name": "stdout",
     "output_type": "stream",
     "text": [
      "   FN: 0\n",
      "   FP: 1\n",
      "Merge: 0\n",
      "Split: 0\n"
     ]
    },
    {
     "data": {
      "image/png": "[encoded data removed]",
      "text/plain": [
       "<matplotlib.figure.Figure at 0x7ff67425d410>"
      ]
     },
     "metadata": {},
     "output_type": "display_data"
    }
   ],
   "source": [
    "ref = zeros((500, 500), 'uint8')\n",
    "ref[100:200, 100:200] = 1\n",
    "ref[300:400, 100:200] = 2\n",
    "ref[100:200, 300:400] = 3\n",
    "ref[300:400, 300:400] = 4\n",
    "\n",
    "seg = zeros((500, 500), 'uint8')\n",
    "seg[120:220, 120:220] = 1\n",
    "seg[340:440, 100:200] = 2\n",
    "seg[100:200, 250:400] = 3\n",
    "seg[250:500, 250:500] = 4\n",
    "\n",
    "study.reset()\n",
    "study.set_expected(ref)\n",
    "study.process(seg)\n",
    "study.print_results()\n",
    "\n",
    "figure(figsize=(12,4))\n",
    "subplot(141)\n",
    "imshow(ref, 'gray')\n",
    "title('ref')\n",
    "subplot(142)\n",
    "imshow(seg, 'gray')\n",
    "title('seg')\n",
    "subplot(143)\n",
    "imshow(study.measures['FP'].result, 'gray')\n",
    "title('FP')\n",
    "subplot(144)\n",
    "imshow(study.measures['FN'].result, 'gray')\n",
    "title('FN')\n",
    "tight_layout()\n",
    "\n",
    "assert sum(study['FP']) == 1\n",
    "assert all([sum(study[key]) == 0 for key in study.measures if key is not 'FP'])"
   ]
  },
  {
   "cell_type": "markdown",
   "metadata": {},
   "source": [
    "### False merge"
   ]
  },
  {
   "cell_type": "code",
   "execution_count": 12,
   "metadata": {},
   "outputs": [
    {
     "name": "stdout",
     "output_type": "stream",
     "text": [
      "   FN: 0\n",
      "   FP: 0\n",
      "Merge: 1\n",
      "Split: 0\n"
     ]
    },
    {
     "data": {
      "image/png": "[encoded data removed]",
      "text/plain": [
       "<matplotlib.figure.Figure at 0x7ff67425d650>"
      ]
     },
     "metadata": {},
     "output_type": "display_data"
    }
   ],
   "source": [
    "ref = zeros((500, 500), 'uint8')\n",
    "ref[100:200, 100:200] = 1\n",
    "ref[300:400, 100:200] = 2\n",
    "ref[100:250, 300:400] = 3\n",
    "ref[250:400, 300:400] = 4\n",
    "\n",
    "seg = zeros((500, 500), 'uint8')\n",
    "seg[120:220, 120:220] = 1\n",
    "seg[340:440, 100:200] = 2\n",
    "seg[ 90:410, 280:420] = 3\n",
    "\n",
    "study.reset()\n",
    "study.set_expected(ref)\n",
    "study.process(seg)\n",
    "study.print_results()\n",
    "\n",
    "figure(figsize=(12,4))\n",
    "subplot(141)\n",
    "imshow(ref, 'gray')\n",
    "title('ref')\n",
    "subplot(142)\n",
    "imshow(seg, 'gray')\n",
    "title('seg')\n",
    "subplot(143)\n",
    "imshow(study.measures['FP'].result, 'gray')\n",
    "title('FP')\n",
    "subplot(144)\n",
    "imshow(study.measures['FN'].result, 'gray')\n",
    "title('FN')\n",
    "tight_layout()\n",
    "\n",
    "assert sum(study['Merge']) == 1\n",
    "assert all([sum(study[key]) == 0 for key in study.measures if key != 'Merge'])"
   ]
  },
  {
   "cell_type": "code",
   "execution_count": 13,
   "metadata": {},
   "outputs": [
    {
     "name": "stdout",
     "output_type": "stream",
     "text": [
      "   FN: 0\n",
      "   FP: 1\n",
      "Merge: 1\n",
      "Split: 0\n"
     ]
    },
    {
     "data": {
      "image/png": "[encoded data removed]",
      "text/plain": [
       "<matplotlib.figure.Figure at 0x7ff67425d290>"
      ]
     },
     "metadata": {},
     "output_type": "display_data"
    }
   ],
   "source": [
    "ref = zeros((500, 500), 'uint8')\n",
    "ref[100:200, 100:200] = 1\n",
    "ref[300:400, 100:200] = 2\n",
    "ref[100:200, 300:400] = 3\n",
    "ref[300:400, 300:400] = 4\n",
    "\n",
    "seg = zeros((500, 500), 'uint8')\n",
    "seg[120:220, 120:220] = 1\n",
    "seg[340:440, 100:200] = 2\n",
    "seg[100:400, 250:400] = 3\n",
    "\n",
    "study.reset()\n",
    "study.set_expected(ref)\n",
    "study.process(seg)\n",
    "study.print_results()\n",
    "\n",
    "figure(figsize=(12,4))\n",
    "subplot(141)\n",
    "imshow(ref, 'gray')\n",
    "title('ref')\n",
    "subplot(142)\n",
    "imshow(seg, 'gray')\n",
    "title('seg')\n",
    "subplot(143)\n",
    "imshow(study.measures['FP'].result, 'gray')\n",
    "title('FP')\n",
    "subplot(144)\n",
    "imshow(study.measures['FN'].result, 'gray')\n",
    "title('FN')\n",
    "tight_layout()\n",
    "\n",
    "assert sum(study['Merge']) == 1\n",
    "assert sum(study[   'FP']) == 1\n",
    "assert all([sum(study[key]) == 0 for key in study.measures if key != 'Merge' and key != 'FP'])"
   ]
  },
  {
   "cell_type": "markdown",
   "metadata": {},
   "source": [
    "### False split"
   ]
  },
  {
   "cell_type": "code",
   "execution_count": 14,
   "metadata": {},
   "outputs": [
    {
     "name": "stdout",
     "output_type": "stream",
     "text": [
      "   FN: 0\n",
      "   FP: 0\n",
      "Merge: 0\n",
      "Split: 1\n"
     ]
    },
    {
     "data": {
      "image/png": "[encoded data removed]",
      "text/plain": [
       "<matplotlib.figure.Figure at 0x7ff673b8b650>"
      ]
     },
     "metadata": {},
     "output_type": "display_data"
    }
   ],
   "source": [
    "ref = zeros((500, 500), 'uint8')\n",
    "ref[120:220, 120:220] = 1\n",
    "ref[340:440, 100:200] = 2\n",
    "ref[ 90:410, 280:420] = 3\n",
    "\n",
    "seg = zeros((500, 500), 'uint8')\n",
    "seg[100:200, 100:200] = 1\n",
    "seg[300:400, 100:200] = 2\n",
    "seg[100:250, 300:400] = 3\n",
    "seg[250:400, 300:400] = 4\n",
    "\n",
    "study.reset()\n",
    "study.set_expected(ref)\n",
    "study.process(seg)\n",
    "study.print_results()\n",
    "\n",
    "figure(figsize=(12,4))\n",
    "subplot(141)\n",
    "imshow(ref, 'gray')\n",
    "title('ref')\n",
    "subplot(142)\n",
    "imshow(seg, 'gray')\n",
    "title('seg')\n",
    "subplot(143)\n",
    "imshow(study.measures['FP'].result, 'gray')\n",
    "title('FP')\n",
    "subplot(144)\n",
    "imshow(study.measures['FN'].result, 'gray')\n",
    "title('FN')\n",
    "tight_layout()\n",
    "\n",
    "assert sum(study['Split']) == 1\n",
    "assert all([sum(study[key]) == 0 for key in study.measures if key != 'Split'])"
   ]
  },
  {
   "cell_type": "code",
   "execution_count": 15,
   "metadata": {},
   "outputs": [
    {
     "name": "stdout",
     "output_type": "stream",
     "text": [
      "   FN: 1\n",
      "   FP: 0\n",
      "Merge: 0\n",
      "Split: 1\n"
     ]
    },
    {
     "data": {
      "image/png": "[encoded data removed]",
      "text/plain": [
       "<matplotlib.figure.Figure at 0x7ff673b8b790>"
      ]
     },
     "metadata": {},
     "output_type": "display_data"
    }
   ],
   "source": [
    "ref = zeros((500, 500), 'uint8')\n",
    "ref[120:220, 120:220] = 1\n",
    "ref[340:440, 100:200] = 2\n",
    "ref[100:400, 250:400] = 3\n",
    "\n",
    "seg = zeros((500, 500), 'uint8')\n",
    "seg[100:200, 100:200] = 1\n",
    "seg[300:400, 100:200] = 2\n",
    "seg[100:200, 300:400] = 3\n",
    "seg[300:400, 300:400] = 4\n",
    "\n",
    "study.reset()\n",
    "study.set_expected(ref)\n",
    "study.process(seg)\n",
    "study.print_results()\n",
    "\n",
    "figure(figsize=(12,4))\n",
    "subplot(141)\n",
    "imshow(ref, 'gray')\n",
    "title('ref')\n",
    "subplot(142)\n",
    "imshow(seg, 'gray')\n",
    "title('seg')\n",
    "subplot(143)\n",
    "imshow(study.measures['FP'].result, 'gray')\n",
    "title('FP')\n",
    "subplot(144)\n",
    "imshow(study.measures['FN'].result, 'gray')\n",
    "title('FN')\n",
    "tight_layout()\n",
    "\n",
    "assert sum(study['Split']) == 1\n",
    "assert sum(study[   'FN']) == 1\n",
    "assert all([sum(study[key]) == 0 for key in study.measures if key != 'Split' and key != 'FN'])"
   ]
  },
  {
   "cell_type": "markdown",
   "metadata": {},
   "source": [
    "## Testing the `RandIndex` Implementation"
   ]
  },
  {
   "cell_type": "code",
   "execution_count": 16,
   "metadata": {},
   "outputs": [],
   "source": [
    "random.seed(3)\n",
    "R = random.rand(40, 40).round().astype(int)\n",
    "S = random.rand(40, 40).round().astype(int)\n",
    "\n",
    "a, b, c, d = 0, 0, 0, 0\n",
    "for i in xrange(len(R.flat)):\n",
    "    for j in xrange(i + 1, len(R.flat)):\n",
    "        if   R.flat[i] == R.flat[j] and S.flat[i] == S.flat[j]: a += 2\n",
    "        elif R.flat[i] != R.flat[j] and S.flat[i] == S.flat[j]: b += 2\n",
    "        elif R.flat[i] == R.flat[j] and S.flat[i] != S.flat[j]: c += 2\n",
    "        elif R.flat[i] != R.flat[j] and S.flat[i] != S.flat[j]: d += 2\n",
    "\n",
    "rand_index_impl = RandIndex()\n",
    "rand_index_impl.set_expected(R)\n",
    "parts = rand_index_impl.compute_parts(S)\n",
    "\n",
    "assert a == parts[0] and b == parts[1] and c == parts[2] and d == parts[3]"
   ]
  },
  {
   "cell_type": "markdown",
   "metadata": {},
   "source": [
    "## Performance of ISBI SEG Score"
   ]
  },
  {
   "cell_type": "code",
   "execution_count": 17,
   "metadata": {
    "ExecuteTime": {
     "end_time": "2018-02-24T11:26:02.363651Z",
     "start_time": "2018-02-24T11:26:01.397791Z"
    }
   },
   "outputs": [
    {
     "name": "stdout",
     "output_type": "stream",
     "text": [
      "1 loop, best of 3: 236 ms per loop\n"
     ]
    }
   ],
   "source": [
    "%%timeit\n",
    "study = Study()\n",
    "study.add_measure(ISBIScore())\n",
    "study.set_expected(groundtruth_list[0])\n",
    "study.process(result_list[0])"
   ]
  },
  {
   "cell_type": "markdown",
   "metadata": {},
   "source": [
    "## Gauging of ISBI SEG Score"
   ]
  },
  {
   "cell_type": "code",
   "execution_count": 18,
   "metadata": {
    "ExecuteTime": {
     "end_time": "2018-02-24T11:26:02.368027Z",
     "start_time": "2018-02-24T11:26:02.364975Z"
    }
   },
   "outputs": [],
   "source": [
    "seterr(all='raise');"
   ]
  },
  {
   "cell_type": "code",
   "execution_count": 19,
   "metadata": {
    "ExecuteTime": {
     "end_time": "2018-02-24T11:26:25.426505Z",
     "start_time": "2018-02-24T11:26:02.370639Z"
    },
    "scrolled": false
   },
   "outputs": [
    {
     "name": "stdout",
     "output_type": "stream",
     "text": [
      "            ARI: 86.47 %\n",
      "           Dice: 90.65 %\n",
      "Hausdorff (a2e): 98.1446\n",
      "Hausdorff (e2a): 55.886\n",
      "Hausdorff (sym): 98.1446\n",
      "        Jaccard: 2.54111\n",
      "            NSD: 21.89 %\n",
      "           Rand: 92.03 %\n",
      "            SEG: 79.99 %\n"
     ]
    }
   ],
   "source": [
    "study = Study()\n",
    "\n",
    "study.add_measure(Dice()             , 'Dice'   )\n",
    "study.add_measure(NSD()              , 'NSD'    )\n",
    "study.add_measure(ISBIScore()        , 'SEG'    )\n",
    "study.add_measure(RandIndex()        , 'Rand'   )\n",
    "study.add_measure(AdjustedRandIndex(), 'ARI'    )\n",
    "study.add_measure(JaccardIndex()     , 'Jaccard')\n",
    "\n",
    "study.add_measure(Hausdorff(mode='sym'), 'Hausdorff (sym)')\n",
    "study.add_measure(Hausdorff(mode='a2e'), 'Hausdorff (a2e)')\n",
    "study.add_measure(Hausdorff(mode='e2a'), 'Hausdorff (e2a)')\n",
    "\n",
    "for groundtruth, result in zip(groundtruth_list, result_list):\n",
    "    study.set_expected(groundtruth)\n",
    "    study.process(result)\n",
    "\n",
    "study.print_results()"
   ]
  },
  {
   "cell_type": "code",
   "execution_count": 20,
   "metadata": {
    "ExecuteTime": {
     "end_time": "2018-02-24T11:26:36.125049Z",
     "start_time": "2018-02-24T11:26:25.428423Z"
    },
    "scrolled": false
   },
   "outputs": [
    {
     "name": "stdout",
     "output_type": "stream",
     "text": [
      "Error: 2.32915967513e-07\n"
     ]
    }
   ],
   "source": [
    "def get_official_isbi_seg_score(groundtruth_list, result_list):\n",
    "    oak_result = isbi_seg_oak.oak(groundtruth_list, result_list)\n",
    "    match = re.compile(r'.*?([\\.0-9]+)').match(oak_result)\n",
    "    if match is not None:\n",
    "        official_result = float(match.group(1))\n",
    "        return official_result\n",
    "    else:\n",
    "        raise ValueError('Unexpected result:', oak_result)\n",
    "\n",
    "print 'Error:', get_official_isbi_seg_score(groundtruth_list, result_list) - mean(study['SEG'])"
   ]
  },
  {
   "cell_type": "markdown",
   "metadata": {},
   "source": [
    "Passing `unique=False` to `Study.set_expected` should not affect the result of the *first* image, that is already labeled uniquely:"
   ]
  },
  {
   "cell_type": "code",
   "execution_count": 21,
   "metadata": {
    "ExecuteTime": {
     "end_time": "2018-02-24T11:27:32.036552Z",
     "start_time": "2018-02-24T11:27:23.798190Z"
    }
   },
   "outputs": [],
   "source": [
    "studies2 = [Study(), Study()]\n",
    "for measure in study.measures.items():\n",
    "    for s in studies2: s.add_measure(*measure[::-1])\n",
    "\n",
    "studies2[0].set_expected(groundtruth_list[0], unique=True)\n",
    "studies2[0].process(result_list[0])\n",
    "\n",
    "studies2[1].set_expected(groundtruth_list[0], unique=False)\n",
    "studies2[1].process(result_list[0])\n",
    "\n",
    "for measure_name in study.measures.keys():\n",
    "    assert allclose(studies2[0][measure_name], studies2[1][measure_name])"
   ]
  },
  {
   "cell_type": "markdown",
   "metadata": {},
   "source": [
    "## Dealing with Non-unique Labels and ISBI SEG Score"
   ]
  },
  {
   "cell_type": "code",
   "execution_count": 22,
   "metadata": {
    "ExecuteTime": {
     "end_time": "2018-02-24T11:27:37.488921Z",
     "start_time": "2018-02-24T11:27:37.474948Z"
    }
   },
   "outputs": [
    {
     "name": "stdout",
     "output_type": "stream",
     "text": [
      "0 to 426\n",
      "0 to 348\n"
     ]
    }
   ],
   "source": [
    "print('%s to %s' % (result_list[1].min()     , result_list[1].max()     ))\n",
    "print('%s to %s' % (groundtruth_list[1].min(), groundtruth_list[1].max()))"
   ]
  },
  {
   "cell_type": "code",
   "execution_count": 23,
   "metadata": {
    "ExecuteTime": {
     "end_time": "2018-02-24T11:27:37.732337Z",
     "start_time": "2018-02-24T11:27:37.490743Z"
    }
   },
   "outputs": [
    {
     "data": {
      "image/png": "[encoded data removed]",
      "text/plain": [
       "<matplotlib.figure.Figure at 0x7ff673b78b10>"
      ]
     },
     "metadata": {},
     "output_type": "display_data"
    }
   ],
   "source": [
    "imshow(groundtruth_list[1] == 1, 'gray')\n",
    "tight_layout()"
   ]
  },
  {
   "cell_type": "code",
   "execution_count": 24,
   "metadata": {
    "ExecuteTime": {
     "end_time": "2018-02-24T11:27:45.228774Z",
     "start_time": "2018-02-24T11:27:37.734017Z"
    }
   },
   "outputs": [
    {
     "name": "stdout",
     "output_type": "stream",
     "text": [
      "0.805115\n"
     ]
    }
   ],
   "source": [
    "official_result = get_official_isbi_seg_score([groundtruth_list[1]], [result_list[1]])\n",
    "print(official_result)"
   ]
  },
  {
   "cell_type": "markdown",
   "metadata": {},
   "source": [
    "Test *without* relabling the ground truth:"
   ]
  },
  {
   "cell_type": "code",
   "execution_count": 25,
   "metadata": {
    "ExecuteTime": {
     "end_time": "2018-02-24T11:27:46.742916Z",
     "start_time": "2018-02-24T11:27:45.230669Z"
    },
    "scrolled": true
   },
   "outputs": [
    {
     "name": "stdout",
     "output_type": "stream",
     "text": [
      "1.61858297432e-07\n"
     ]
    }
   ],
   "source": [
    "study = Study()\n",
    "study.add_measure(ISBIScore())\n",
    "\n",
    "study.set_expected(groundtruth_list[1])\n",
    "study.process(result_list[1])\n",
    "\n",
    "our_result = mean(study[study.measures.keys()[0]])\n",
    "print our_result - official_result"
   ]
  },
  {
   "cell_type": "markdown",
   "metadata": {},
   "source": [
    "Test *with* relabling the ground truth:"
   ]
  },
  {
   "cell_type": "code",
   "execution_count": 26,
   "metadata": {
    "ExecuteTime": {
     "end_time": "2018-02-24T11:27:48.188015Z",
     "start_time": "2018-02-24T11:27:46.744419Z"
    },
    "scrolled": true
   },
   "outputs": [
    {
     "name": "stdout",
     "output_type": "stream",
     "text": [
      "0.00943515771894\n"
     ]
    }
   ],
   "source": [
    "study = Study()\n",
    "study.add_measure(ISBIScore())\n",
    "\n",
    "study.set_expected(groundtruth_list[1], unique=False)\n",
    "study.process(result_list[1])\n",
    "\n",
    "our_result = mean(study[study.measures.keys()[0]])\n",
    "print our_result - official_result"
   ]
  },
  {
   "cell_type": "markdown",
   "metadata": {},
   "source": [
    "So in order to immitate the official evaluation software, we must not relabel the ground truth."
   ]
  },
  {
   "cell_type": "markdown",
   "metadata": {},
   "source": [
    "## Datatype Tests"
   ]
  },
  {
   "cell_type": "code",
   "execution_count": 27,
   "metadata": {
    "ExecuteTime": {
     "end_time": "2018-02-24T11:27:48.582366Z",
     "start_time": "2018-02-24T11:27:48.189578Z"
    }
   },
   "outputs": [
    {
     "name": "stdout",
     "output_type": "stream",
     "text": [
      "uint8, uint8\n",
      "0.751928199171\n"
     ]
    }
   ],
   "source": [
    "def test_dtypes(result_dtype, gt_dtype, unique=True):\n",
    "    result      = load_img('testdata/01_result.png').astype(result_dtype)\n",
    "    groundtruth = load_img('testdata/01_groundtruth.png').astype(gt_dtype)\n",
    "\n",
    "    study = Study()\n",
    "    study.add_measure(ISBIScore(), 'isbi')\n",
    "\n",
    "    study.set_expected(groundtruth, unique=unique)\n",
    "    study.process(result)\n",
    "\n",
    "    print('%s, %s' % (groundtruth.dtype, result.dtype))\n",
    "    print(mean(study['isbi']))\n",
    "\n",
    "test_dtypes('uint8', 'uint8')"
   ]
  },
  {
   "cell_type": "code",
   "execution_count": 28,
   "metadata": {
    "ExecuteTime": {
     "end_time": "2018-02-24T11:27:48.982634Z",
     "start_time": "2018-02-24T11:27:48.584145Z"
    }
   },
   "outputs": [
    {
     "name": "stdout",
     "output_type": "stream",
     "text": [
      "int64, int64\n",
      "0.751928199171\n"
     ]
    }
   ],
   "source": [
    "test_dtypes(int, int)"
   ]
  },
  {
   "cell_type": "code",
   "execution_count": 29,
   "metadata": {
    "ExecuteTime": {
     "end_time": "2018-02-24T11:27:49.005586Z",
     "start_time": "2018-02-24T11:27:48.984226Z"
    }
   },
   "outputs": [],
   "source": [
    "try:\n",
    "    test_dtypes(float, int)\n",
    "    assert False\n",
    "except AssertionError as ex:\n",
    "    assert str(ex) == 'illegal image dtype', ex"
   ]
  },
  {
   "cell_type": "code",
   "execution_count": 30,
   "metadata": {
    "ExecuteTime": {
     "end_time": "2018-02-24T11:27:49.025835Z",
     "start_time": "2018-02-24T11:27:49.007106Z"
    }
   },
   "outputs": [],
   "source": [
    "try:\n",
    "    test_dtypes(int, bool)\n",
    "    assert False\n",
    "except AssertionError as ex:\n",
    "    assert str(ex) == 'with unique=True a non-boolean ground truth is expected', ex"
   ]
  },
  {
   "cell_type": "code",
   "execution_count": 31,
   "metadata": {
    "ExecuteTime": {
     "end_time": "2018-02-24T11:27:49.456024Z",
     "start_time": "2018-02-24T11:27:49.027892Z"
    }
   },
   "outputs": [
    {
     "name": "stdout",
     "output_type": "stream",
     "text": [
      "bool, int64\n",
      "0.751928199171\n"
     ]
    }
   ],
   "source": [
    "test_dtypes(int, bool, unique=False)"
   ]
  },
  {
   "cell_type": "code",
   "execution_count": 32,
   "metadata": {
    "ExecuteTime": {
     "end_time": "2018-02-24T11:27:49.482139Z",
     "start_time": "2018-02-24T11:27:49.457480Z"
    }
   },
   "outputs": [],
   "source": [
    "try:\n",
    "    test_dtypes(int, float)\n",
    "    assert False\n",
    "except AssertionError as ex:\n",
    "    assert str(ex) == 'illegal ground truth dtype', ex"
   ]
  },
  {
   "cell_type": "code",
   "execution_count": 33,
   "metadata": {
    "ExecuteTime": {
     "end_time": "2018-02-24T11:27:49.512562Z",
     "start_time": "2018-02-24T11:27:49.483673Z"
    }
   },
   "outputs": [],
   "source": [
    "try:\n",
    "    test_dtypes(bool, float)\n",
    "    assert False\n",
    "except AssertionError as ex:\n",
    "    assert str(ex) == 'illegal ground truth dtype', ex"
   ]
  },
  {
   "cell_type": "markdown",
   "metadata": {},
   "source": [
    "## Test GT vs. GT"
   ]
  },
  {
   "cell_type": "code",
   "execution_count": 34,
   "metadata": {
    "ExecuteTime": {
     "end_time": "2018-02-24T11:27:49.761279Z",
     "start_time": "2018-02-24T11:27:49.513939Z"
    }
   },
   "outputs": [],
   "source": [
    "groundtruth = load_img('testdata/01_groundtruth.png')\n",
    "\n",
    "study = Study()\n",
    "study.add_measure(ISBIScore(), 'isbi')\n",
    "\n",
    "study.set_expected(groundtruth)\n",
    "study.process(groundtruth)\n",
    "\n",
    "assert allclose(1, mean(study['isbi']))"
   ]
  },
  {
   "cell_type": "code",
   "execution_count": 35,
   "metadata": {
    "ExecuteTime": {
     "end_time": "2018-02-24T11:27:50.062534Z",
     "start_time": "2018-02-24T11:27:49.762565Z"
    }
   },
   "outputs": [],
   "source": [
    "groundtruth = load_img('testdata/01_groundtruth.png')\n",
    "\n",
    "study = Study()\n",
    "study.add_measure(ISBIScore(), 'isbi')\n",
    "\n",
    "study.set_expected(groundtruth, unique=False)\n",
    "study.process(groundtruth)\n",
    "\n",
    "assert allclose(1, mean(study['isbi']))"
   ]
  },
  {
   "cell_type": "code",
   "execution_count": 36,
   "metadata": {
    "ExecuteTime": {
     "end_time": "2018-02-24T11:27:50.415645Z",
     "start_time": "2018-02-24T11:27:50.064039Z"
    }
   },
   "outputs": [],
   "source": [
    "groundtruth = (load_img('testdata/01_groundtruth.png') > 0).astype(int)\n",
    "\n",
    "study = Study()\n",
    "study.add_measure(ISBIScore(), 'isbi')\n",
    "\n",
    "study.set_expected(groundtruth, unique=False)\n",
    "study.process(groundtruth, unique=False)\n",
    "\n",
    "assert allclose(1, mean(study['isbi']))"
   ]
  }
 ],
 "metadata": {
  "kernelspec": {
   "display_name": "Python 2",
   "language": "python",
   "name": "python2"
  },
  "language_info": {
   "codemirror_mode": {
    "name": "ipython",
    "version": 2
   },
   "file_extension": ".py",
   "mimetype": "text/x-python",
   "name": "python",
   "nbconvert_exporter": "python",
   "pygments_lexer": "ipython2",
   "version": "2.7.14"
  },
  "varInspector": {
   "cols": {
    "lenName": 16,
    "lenType": 16,
    "lenVar": 40
   },
   "kernels_config": {
    "python": {
     "delete_cmd_postfix": "",
     "delete_cmd_prefix": "del ",
     "library": "var_list.py",
     "varRefreshCmd": "print(var_dic_list())"
    },
    "r": {
     "delete_cmd_postfix": ") ",
     "delete_cmd_prefix": "rm(",
     "library": "var_list.r",
     "varRefreshCmd": "cat(var_dic_list()) "
    }
   },
   "types_to_exclude": [
    "module",
    "function",
    "builtin_function_or_method",
    "instance",
    "_Feature"
   ],
   "window_display": false
  }
 },
 "nbformat": 4,
 "nbformat_minor": 1
}
