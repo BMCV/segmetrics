{
 "cells": [
  {
   "cell_type": "code",
   "execution_count": 1,
   "metadata": {
    "ExecuteTime": {
     "end_time": "2017-08-10T15:09:09.356317Z",
     "start_time": "2017-08-10T15:09:08.803522Z"
    },
    "collapsed": false
   },
   "outputs": [
    {
     "name": "stdout",
     "output_type": "stream",
     "text": [
      "Using matplotlib backend: TkAgg\n",
      "Populating the interactive namespace from numpy and matplotlib\n"
     ]
    }
   ],
   "source": [
    "%pylab\n",
    "%matplotlib inline\n",
    "\n",
    "import cv2, re, isbi_seg_oak\n",
    "from segmetrics.study    import *\n",
    "from segmetrics.regional import *\n",
    "from segmetrics.boundary import *\n",
    "from skimage import measure"
   ]
  },
  {
   "cell_type": "code",
   "execution_count": 2,
   "metadata": {
    "ExecuteTime": {
     "end_time": "2017-08-10T15:09:09.379396Z",
     "start_time": "2017-08-10T15:09:09.358610Z"
    },
    "collapsed": false
   },
   "outputs": [],
   "source": [
    "result      = cv2.imread('testdata/result.png', 0)\n",
    "groundtruth = cv2.imread('testdata/groundtruth.png', 0)"
   ]
  },
  {
   "cell_type": "code",
   "execution_count": 3,
   "metadata": {
    "ExecuteTime": {
     "end_time": "2017-08-10T15:09:13.788642Z",
     "start_time": "2017-08-10T15:09:09.380706Z"
    },
    "collapsed": false
   },
   "outputs": [
    {
     "name": "stdout",
     "output_type": "stream",
     "text": [
      "1 loop, best of 3: 1.06 s per loop\n"
     ]
    }
   ],
   "source": [
    "%%timeit\n",
    "study = Study()\n",
    "study.add_measure(ISBIScore())\n",
    "study.set_expected(groundtruth)\n",
    "study.process(result)"
   ]
  },
  {
   "cell_type": "code",
   "execution_count": 4,
   "metadata": {
    "ExecuteTime": {
     "end_time": "2017-08-10T15:09:25.250621Z",
     "start_time": "2017-08-10T15:09:13.790264Z"
    },
    "collapsed": false,
    "scrolled": true
   },
   "outputs": [
    {
     "name": "stdout",
     "output_type": "stream",
     "text": [
      " hausdorff: 16.480 ±27.855\n",
      "isbi score:  0.752 ± 0.237\n",
      "      dice:  0.916 ± 0.000\n"
     ]
    }
   ],
   "source": [
    "n, study = 5, Study()\n",
    "\n",
    "study.add_measure(Dice()     , 'dice')\n",
    "study.add_measure(Hausdorff(), 'hausdorff')\n",
    "study.add_measure(ISBIScore(), 'isbi score')\n",
    "\n",
    "study.set_expected(groundtruth)\n",
    "for i in xrange(n): study.process(result)\n",
    "\n",
    "for measure_name in study.results:\n",
    "    print('%10s: %6.3f ±%6.3f' % (measure_name, mean(study.results[measure_name]), std(study.results[measure_name])))"
   ]
  },
  {
   "cell_type": "code",
   "execution_count": 5,
   "metadata": {
    "ExecuteTime": {
     "end_time": "2017-08-10T15:09:27.347604Z",
     "start_time": "2017-08-10T15:09:25.252114Z"
    },
    "collapsed": false,
    "scrolled": false
   },
   "outputs": [
    {
     "name": "stdout",
     "output_type": "stream",
     "text": [
      "Error: -1.99170556492e-07\n"
     ]
    }
   ],
   "source": [
    "oak_result = isbi_seg_oak.oak(groundtruth, result, n)\n",
    "match = re.compile(r'.*?([\\.0-9]+)').match(oak_result)\n",
    "if match is not None:\n",
    "    official_result = float(match.group(1))\n",
    "    print('Error:', official_result - mean(study.results['isbi score']))\n",
    "else:\n",
    "    raise ValueError('Unexpected result:', oak_result)"
   ]
  },
  {
   "cell_type": "code",
   "execution_count": 6,
   "metadata": {
    "ExecuteTime": {
     "end_time": "2017-08-10T15:09:39.283822Z",
     "start_time": "2017-08-10T15:09:27.349506Z"
    },
    "collapsed": false
   },
   "outputs": [],
   "source": [
    "study2 = Study()\n",
    "for measure in study.measures.items():\n",
    "    study2.add_measure(*measure[::-1])\n",
    "study2.set_expected(groundtruth, unique=False)\n",
    "for i in xrange(n): study2.process(result)\n",
    "for measure_name in study.measures.keys():\n",
    "    assert allclose(study.results[measure_name], study2.results[measure_name])"
   ]
  }
 ],
 "metadata": {
  "kernelspec": {
   "display_name": "Python 2",
   "language": "python",
   "name": "python2"
  },
  "language_info": {
   "codemirror_mode": {
    "name": "ipython",
    "version": 2
   },
   "file_extension": ".py",
   "mimetype": "text/x-python",
   "name": "python",
   "nbconvert_exporter": "python",
   "pygments_lexer": "ipython2",
   "version": "2.7.12"
  },
  "varInspector": {
   "cols": {
    "lenName": 16,
    "lenType": 16,
    "lenVar": 40
   },
   "kernels_config": {
    "python": {
     "delete_cmd_postfix": "",
     "delete_cmd_prefix": "del ",
     "library": "var_list.py",
     "varRefreshCmd": "print(var_dic_list())"
    },
    "r": {
     "delete_cmd_postfix": ") ",
     "delete_cmd_prefix": "rm(",
     "library": "var_list.r",
     "varRefreshCmd": "cat(var_dic_list()) "
    }
   },
   "types_to_exclude": [
    "module",
    "function",
    "builtin_function_or_method",
    "instance",
    "_Feature"
   ],
   "window_display": false
  }
 },
 "nbformat": 4,
 "nbformat_minor": 0
}
